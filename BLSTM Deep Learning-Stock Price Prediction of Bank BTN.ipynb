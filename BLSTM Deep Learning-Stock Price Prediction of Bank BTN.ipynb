{
  "nbformat": 4,
  "nbformat_minor": 0,
  "metadata": {
    "colab": {
      "provenance": [],
      "collapsed_sections": []
    },
    "kernelspec": {
      "name": "python3",
      "display_name": "Python 3"
    },
    "language_info": {
      "name": "python"
    },
    "accelerator": "GPU"
  },
  "cells": [
    {
      "cell_type": "markdown",
      "source": [
        "# IMPORT LIBRARY"
      ],
      "metadata": {
        "id": "3sES6qwZuSdZ"
      }
    },
    {
      "cell_type": "code",
      "execution_count": 118,
      "metadata": {
        "id": "rDwbz7SUt41s"
      },
      "outputs": [],
      "source": [
        "import math\n",
        "import pandas_datareader as pdr\n",
        "import numpy as np\n",
        "import datetime as dt\n",
        "import requests\n",
        "import pandas as pd\n",
        "import matplotlib.pyplot as plt\n",
        "from plotly import graph_objs as go\n",
        "\n",
        "from sklearn.preprocessing import MinMaxScaler\n",
        "from sklearn.model_selection import train_test_split\n",
        "import tensorflow as tf\n",
        "from keras.models import Sequential\n",
        "from keras.layers import LSTM, Dense, Bidirectional, Dropout\n",
        "from sklearn.metrics import r2_score\n",
        "from tensorflow.keras.metrics import MeanAbsoluteError, MeanAbsolutePercentageError, MeanSquaredError\n"
      ]
    },
    {
      "cell_type": "markdown",
      "source": [
        "# GET STOCK DATA "
      ],
      "metadata": {
        "id": "RV-8036gwbLJ"
      }
    },
    {
      "cell_type": "code",
      "source": [
        "start_date = dt.datetime(2012,1,1)\n",
        "end_date = dt.datetime(2022,10,26)"
      ],
      "metadata": {
        "id": "81CnbMkfZ3j5"
      },
      "execution_count": null,
      "outputs": []
    },
    {
      "cell_type": "code",
      "source": [
        "def build_btn_dataset(start=start_date, end=end_date):\n",
        "    session = requests.session()\n",
        "    session.headers['User-Agent'] = 'Mozilla/5.0 (Macintosh; Intel Mac OS X 10_10_1) AppleWebKit/537.36 (KHTML, like Gecko) Chrome/39.0.2171.95 Safari/537.36'\n",
        "    index_data = pdr.get_data_yahoo(\"BBTN.JK\", start=start_date, end=end_date, session = session)\n",
        "    index_data.to_csv(\"BTN_STOCK.csv\") "
      ],
      "metadata": {
        "id": "boxBpQMJZjao"
      },
      "execution_count": null,
      "outputs": []
    },
    {
      "cell_type": "code",
      "source": [
        "build_btn_dataset()"
      ],
      "metadata": {
        "id": "Dk0HxBGfaGyc"
      },
      "execution_count": null,
      "outputs": []
    },
    {
      "cell_type": "markdown",
      "source": [
        "# LOAD DATASET"
      ],
      "metadata": {
        "id": "-qBTbsNLaiGC"
      }
    },
    {
      "cell_type": "code",
      "source": [
        "data = pd.read_csv('BTN_STOCK.csv')\n",
        "data"
      ],
      "metadata": {
        "colab": {
          "base_uri": "https://localhost:8080/",
          "height": 424
        },
        "id": "ngEfVEwPakiX",
        "outputId": "e5c21083-eb6c-43e5-b04c-043db4df5b64"
      },
      "execution_count": 99,
      "outputs": [
        {
          "output_type": "execute_result",
          "data": {
            "text/plain": [
              "            Date         High          Low         Open        Close  \\\n",
              "0     2012-01-02  1163.181885  1153.568848  1163.181885  1163.181885   \n",
              "1     2012-01-03  1182.408081  1153.568848  1172.795044  1172.795044   \n",
              "2     2012-01-04  1172.795044  1153.568848  1163.181885  1163.181885   \n",
              "3     2012-01-05  1172.795044  1153.568848  1163.181885  1163.181885   \n",
              "4     2012-01-06  1163.181885  1153.568848  1163.181885  1163.181885   \n",
              "...          ...          ...          ...          ...          ...   \n",
              "2680  2022-10-20  1535.000000  1450.000000  1460.000000  1535.000000   \n",
              "2681  2022-10-21  1530.000000  1500.000000  1530.000000  1500.000000   \n",
              "2682  2022-10-24  1545.000000  1510.000000  1510.000000  1535.000000   \n",
              "2683  2022-10-25  1555.000000  1520.000000  1545.000000  1525.000000   \n",
              "2684  2022-10-26  1540.000000  1515.000000  1535.000000  1535.000000   \n",
              "\n",
              "          Volume    Adj Close  \n",
              "0      1624870.0   961.159485  \n",
              "1      2792031.0   969.103088  \n",
              "2      5411900.0   961.159485  \n",
              "3      3526447.0   961.159485  \n",
              "4      1864128.0   961.159485  \n",
              "...          ...          ...  \n",
              "2680  28234000.0  1535.000000  \n",
              "2681   9856400.0  1500.000000  \n",
              "2682  22476900.0  1535.000000  \n",
              "2683  16626600.0  1525.000000  \n",
              "2684  10442300.0  1535.000000  \n",
              "\n",
              "[2685 rows x 7 columns]"
            ],
            "text/html": [
              "\n",
              "  <div id=\"df-3db04e30-3076-46cc-85f5-e57bcee45c5c\">\n",
              "    <div class=\"colab-df-container\">\n",
              "      <div>\n",
              "<style scoped>\n",
              "    .dataframe tbody tr th:only-of-type {\n",
              "        vertical-align: middle;\n",
              "    }\n",
              "\n",
              "    .dataframe tbody tr th {\n",
              "        vertical-align: top;\n",
              "    }\n",
              "\n",
              "    .dataframe thead th {\n",
              "        text-align: right;\n",
              "    }\n",
              "</style>\n",
              "<table border=\"1\" class=\"dataframe\">\n",
              "  <thead>\n",
              "    <tr style=\"text-align: right;\">\n",
              "      <th></th>\n",
              "      <th>Date</th>\n",
              "      <th>High</th>\n",
              "      <th>Low</th>\n",
              "      <th>Open</th>\n",
              "      <th>Close</th>\n",
              "      <th>Volume</th>\n",
              "      <th>Adj Close</th>\n",
              "    </tr>\n",
              "  </thead>\n",
              "  <tbody>\n",
              "    <tr>\n",
              "      <th>0</th>\n",
              "      <td>2012-01-02</td>\n",
              "      <td>1163.181885</td>\n",
              "      <td>1153.568848</td>\n",
              "      <td>1163.181885</td>\n",
              "      <td>1163.181885</td>\n",
              "      <td>1624870.0</td>\n",
              "      <td>961.159485</td>\n",
              "    </tr>\n",
              "    <tr>\n",
              "      <th>1</th>\n",
              "      <td>2012-01-03</td>\n",
              "      <td>1182.408081</td>\n",
              "      <td>1153.568848</td>\n",
              "      <td>1172.795044</td>\n",
              "      <td>1172.795044</td>\n",
              "      <td>2792031.0</td>\n",
              "      <td>969.103088</td>\n",
              "    </tr>\n",
              "    <tr>\n",
              "      <th>2</th>\n",
              "      <td>2012-01-04</td>\n",
              "      <td>1172.795044</td>\n",
              "      <td>1153.568848</td>\n",
              "      <td>1163.181885</td>\n",
              "      <td>1163.181885</td>\n",
              "      <td>5411900.0</td>\n",
              "      <td>961.159485</td>\n",
              "    </tr>\n",
              "    <tr>\n",
              "      <th>3</th>\n",
              "      <td>2012-01-05</td>\n",
              "      <td>1172.795044</td>\n",
              "      <td>1153.568848</td>\n",
              "      <td>1163.181885</td>\n",
              "      <td>1163.181885</td>\n",
              "      <td>3526447.0</td>\n",
              "      <td>961.159485</td>\n",
              "    </tr>\n",
              "    <tr>\n",
              "      <th>4</th>\n",
              "      <td>2012-01-06</td>\n",
              "      <td>1163.181885</td>\n",
              "      <td>1153.568848</td>\n",
              "      <td>1163.181885</td>\n",
              "      <td>1163.181885</td>\n",
              "      <td>1864128.0</td>\n",
              "      <td>961.159485</td>\n",
              "    </tr>\n",
              "    <tr>\n",
              "      <th>...</th>\n",
              "      <td>...</td>\n",
              "      <td>...</td>\n",
              "      <td>...</td>\n",
              "      <td>...</td>\n",
              "      <td>...</td>\n",
              "      <td>...</td>\n",
              "      <td>...</td>\n",
              "    </tr>\n",
              "    <tr>\n",
              "      <th>2680</th>\n",
              "      <td>2022-10-20</td>\n",
              "      <td>1535.000000</td>\n",
              "      <td>1450.000000</td>\n",
              "      <td>1460.000000</td>\n",
              "      <td>1535.000000</td>\n",
              "      <td>28234000.0</td>\n",
              "      <td>1535.000000</td>\n",
              "    </tr>\n",
              "    <tr>\n",
              "      <th>2681</th>\n",
              "      <td>2022-10-21</td>\n",
              "      <td>1530.000000</td>\n",
              "      <td>1500.000000</td>\n",
              "      <td>1530.000000</td>\n",
              "      <td>1500.000000</td>\n",
              "      <td>9856400.0</td>\n",
              "      <td>1500.000000</td>\n",
              "    </tr>\n",
              "    <tr>\n",
              "      <th>2682</th>\n",
              "      <td>2022-10-24</td>\n",
              "      <td>1545.000000</td>\n",
              "      <td>1510.000000</td>\n",
              "      <td>1510.000000</td>\n",
              "      <td>1535.000000</td>\n",
              "      <td>22476900.0</td>\n",
              "      <td>1535.000000</td>\n",
              "    </tr>\n",
              "    <tr>\n",
              "      <th>2683</th>\n",
              "      <td>2022-10-25</td>\n",
              "      <td>1555.000000</td>\n",
              "      <td>1520.000000</td>\n",
              "      <td>1545.000000</td>\n",
              "      <td>1525.000000</td>\n",
              "      <td>16626600.0</td>\n",
              "      <td>1525.000000</td>\n",
              "    </tr>\n",
              "    <tr>\n",
              "      <th>2684</th>\n",
              "      <td>2022-10-26</td>\n",
              "      <td>1540.000000</td>\n",
              "      <td>1515.000000</td>\n",
              "      <td>1535.000000</td>\n",
              "      <td>1535.000000</td>\n",
              "      <td>10442300.0</td>\n",
              "      <td>1535.000000</td>\n",
              "    </tr>\n",
              "  </tbody>\n",
              "</table>\n",
              "<p>2685 rows × 7 columns</p>\n",
              "</div>\n",
              "      <button class=\"colab-df-convert\" onclick=\"convertToInteractive('df-3db04e30-3076-46cc-85f5-e57bcee45c5c')\"\n",
              "              title=\"Convert this dataframe to an interactive table.\"\n",
              "              style=\"display:none;\">\n",
              "        \n",
              "  <svg xmlns=\"http://www.w3.org/2000/svg\" height=\"24px\"viewBox=\"0 0 24 24\"\n",
              "       width=\"24px\">\n",
              "    <path d=\"M0 0h24v24H0V0z\" fill=\"none\"/>\n",
              "    <path d=\"M18.56 5.44l.94 2.06.94-2.06 2.06-.94-2.06-.94-.94-2.06-.94 2.06-2.06.94zm-11 1L8.5 8.5l.94-2.06 2.06-.94-2.06-.94L8.5 2.5l-.94 2.06-2.06.94zm10 10l.94 2.06.94-2.06 2.06-.94-2.06-.94-.94-2.06-.94 2.06-2.06.94z\"/><path d=\"M17.41 7.96l-1.37-1.37c-.4-.4-.92-.59-1.43-.59-.52 0-1.04.2-1.43.59L10.3 9.45l-7.72 7.72c-.78.78-.78 2.05 0 2.83L4 21.41c.39.39.9.59 1.41.59.51 0 1.02-.2 1.41-.59l7.78-7.78 2.81-2.81c.8-.78.8-2.07 0-2.86zM5.41 20L4 18.59l7.72-7.72 1.47 1.35L5.41 20z\"/>\n",
              "  </svg>\n",
              "      </button>\n",
              "      \n",
              "  <style>\n",
              "    .colab-df-container {\n",
              "      display:flex;\n",
              "      flex-wrap:wrap;\n",
              "      gap: 12px;\n",
              "    }\n",
              "\n",
              "    .colab-df-convert {\n",
              "      background-color: #E8F0FE;\n",
              "      border: none;\n",
              "      border-radius: 50%;\n",
              "      cursor: pointer;\n",
              "      display: none;\n",
              "      fill: #1967D2;\n",
              "      height: 32px;\n",
              "      padding: 0 0 0 0;\n",
              "      width: 32px;\n",
              "    }\n",
              "\n",
              "    .colab-df-convert:hover {\n",
              "      background-color: #E2EBFA;\n",
              "      box-shadow: 0px 1px 2px rgba(60, 64, 67, 0.3), 0px 1px 3px 1px rgba(60, 64, 67, 0.15);\n",
              "      fill: #174EA6;\n",
              "    }\n",
              "\n",
              "    [theme=dark] .colab-df-convert {\n",
              "      background-color: #3B4455;\n",
              "      fill: #D2E3FC;\n",
              "    }\n",
              "\n",
              "    [theme=dark] .colab-df-convert:hover {\n",
              "      background-color: #434B5C;\n",
              "      box-shadow: 0px 1px 3px 1px rgba(0, 0, 0, 0.15);\n",
              "      filter: drop-shadow(0px 1px 2px rgba(0, 0, 0, 0.3));\n",
              "      fill: #FFFFFF;\n",
              "    }\n",
              "  </style>\n",
              "\n",
              "      <script>\n",
              "        const buttonEl =\n",
              "          document.querySelector('#df-3db04e30-3076-46cc-85f5-e57bcee45c5c button.colab-df-convert');\n",
              "        buttonEl.style.display =\n",
              "          google.colab.kernel.accessAllowed ? 'block' : 'none';\n",
              "\n",
              "        async function convertToInteractive(key) {\n",
              "          const element = document.querySelector('#df-3db04e30-3076-46cc-85f5-e57bcee45c5c');\n",
              "          const dataTable =\n",
              "            await google.colab.kernel.invokeFunction('convertToInteractive',\n",
              "                                                     [key], {});\n",
              "          if (!dataTable) return;\n",
              "\n",
              "          const docLinkHtml = 'Like what you see? Visit the ' +\n",
              "            '<a target=\"_blank\" href=https://colab.research.google.com/notebooks/data_table.ipynb>data table notebook</a>'\n",
              "            + ' to learn more about interactive tables.';\n",
              "          element.innerHTML = '';\n",
              "          dataTable['output_type'] = 'display_data';\n",
              "          await google.colab.output.renderOutput(dataTable, element);\n",
              "          const docLink = document.createElement('div');\n",
              "          docLink.innerHTML = docLinkHtml;\n",
              "          element.appendChild(docLink);\n",
              "        }\n",
              "      </script>\n",
              "    </div>\n",
              "  </div>\n",
              "  "
            ]
          },
          "metadata": {},
          "execution_count": 99
        }
      ]
    },
    {
      "cell_type": "code",
      "source": [
        "data.isna().sum()"
      ],
      "metadata": {
        "colab": {
          "base_uri": "https://localhost:8080/"
        },
        "id": "W21n9Ox5assc",
        "outputId": "bfbf63a0-581b-476e-d5d9-80c8a4f9b1d9"
      },
      "execution_count": 100,
      "outputs": [
        {
          "output_type": "execute_result",
          "data": {
            "text/plain": [
              "Date         0\n",
              "High         0\n",
              "Low          0\n",
              "Open         0\n",
              "Close        0\n",
              "Volume       0\n",
              "Adj Close    0\n",
              "dtype: int64"
            ]
          },
          "metadata": {},
          "execution_count": 100
        }
      ]
    },
    {
      "cell_type": "code",
      "source": [
        "data.info()"
      ],
      "metadata": {
        "colab": {
          "base_uri": "https://localhost:8080/"
        },
        "id": "5Pd3ySe1axLq",
        "outputId": "36328e1c-407e-4ddf-9676-4a4aeba566e0"
      },
      "execution_count": 101,
      "outputs": [
        {
          "output_type": "stream",
          "name": "stdout",
          "text": [
            "<class 'pandas.core.frame.DataFrame'>\n",
            "RangeIndex: 2685 entries, 0 to 2684\n",
            "Data columns (total 7 columns):\n",
            " #   Column     Non-Null Count  Dtype  \n",
            "---  ------     --------------  -----  \n",
            " 0   Date       2685 non-null   object \n",
            " 1   High       2685 non-null   float64\n",
            " 2   Low        2685 non-null   float64\n",
            " 3   Open       2685 non-null   float64\n",
            " 4   Close      2685 non-null   float64\n",
            " 5   Volume     2685 non-null   float64\n",
            " 6   Adj Close  2685 non-null   float64\n",
            "dtypes: float64(6), object(1)\n",
            "memory usage: 147.0+ KB\n"
          ]
        }
      ]
    },
    {
      "cell_type": "code",
      "source": [
        "data.describe()"
      ],
      "metadata": {
        "colab": {
          "base_uri": "https://localhost:8080/",
          "height": 300
        },
        "id": "nNMobVINayiH",
        "outputId": "29c93784-0b85-416b-b967-ec10a86c68f3"
      },
      "execution_count": 102,
      "outputs": [
        {
          "output_type": "execute_result",
          "data": {
            "text/plain": [
              "              High          Low         Open        Close        Volume  \\\n",
              "count  2685.000000  2685.000000  2685.000000  2685.000000  2.685000e+03   \n",
              "mean   1776.511508  1724.184964  1751.421848  1749.212706  2.980750e+07   \n",
              "std     681.032663   665.959276   674.597593   674.477173  3.886950e+07   \n",
              "min     760.000000   720.000000   750.000000   745.000000  0.000000e+00   \n",
              "25%    1211.247314  1180.000000  1200.000000  1200.000000  1.070850e+07   \n",
              "50%    1635.000000  1590.000000  1614.996338  1610.000000  1.959660e+07   \n",
              "75%    2170.000000  2100.000000  2150.000000  2140.000000  3.539550e+07   \n",
              "max    3890.000000  3800.000000  3840.000000  3840.000000  6.027398e+08   \n",
              "\n",
              "         Adj Close  \n",
              "count  2685.000000  \n",
              "mean   1645.227630  \n",
              "std     673.834326  \n",
              "min     725.850708  \n",
              "25%    1068.375488  \n",
              "50%    1527.684692  \n",
              "75%    2087.968262  \n",
              "max    3643.729980  "
            ],
            "text/html": [
              "\n",
              "  <div id=\"df-45fc8701-4325-42f8-bd7f-e27ed977d552\">\n",
              "    <div class=\"colab-df-container\">\n",
              "      <div>\n",
              "<style scoped>\n",
              "    .dataframe tbody tr th:only-of-type {\n",
              "        vertical-align: middle;\n",
              "    }\n",
              "\n",
              "    .dataframe tbody tr th {\n",
              "        vertical-align: top;\n",
              "    }\n",
              "\n",
              "    .dataframe thead th {\n",
              "        text-align: right;\n",
              "    }\n",
              "</style>\n",
              "<table border=\"1\" class=\"dataframe\">\n",
              "  <thead>\n",
              "    <tr style=\"text-align: right;\">\n",
              "      <th></th>\n",
              "      <th>High</th>\n",
              "      <th>Low</th>\n",
              "      <th>Open</th>\n",
              "      <th>Close</th>\n",
              "      <th>Volume</th>\n",
              "      <th>Adj Close</th>\n",
              "    </tr>\n",
              "  </thead>\n",
              "  <tbody>\n",
              "    <tr>\n",
              "      <th>count</th>\n",
              "      <td>2685.000000</td>\n",
              "      <td>2685.000000</td>\n",
              "      <td>2685.000000</td>\n",
              "      <td>2685.000000</td>\n",
              "      <td>2.685000e+03</td>\n",
              "      <td>2685.000000</td>\n",
              "    </tr>\n",
              "    <tr>\n",
              "      <th>mean</th>\n",
              "      <td>1776.511508</td>\n",
              "      <td>1724.184964</td>\n",
              "      <td>1751.421848</td>\n",
              "      <td>1749.212706</td>\n",
              "      <td>2.980750e+07</td>\n",
              "      <td>1645.227630</td>\n",
              "    </tr>\n",
              "    <tr>\n",
              "      <th>std</th>\n",
              "      <td>681.032663</td>\n",
              "      <td>665.959276</td>\n",
              "      <td>674.597593</td>\n",
              "      <td>674.477173</td>\n",
              "      <td>3.886950e+07</td>\n",
              "      <td>673.834326</td>\n",
              "    </tr>\n",
              "    <tr>\n",
              "      <th>min</th>\n",
              "      <td>760.000000</td>\n",
              "      <td>720.000000</td>\n",
              "      <td>750.000000</td>\n",
              "      <td>745.000000</td>\n",
              "      <td>0.000000e+00</td>\n",
              "      <td>725.850708</td>\n",
              "    </tr>\n",
              "    <tr>\n",
              "      <th>25%</th>\n",
              "      <td>1211.247314</td>\n",
              "      <td>1180.000000</td>\n",
              "      <td>1200.000000</td>\n",
              "      <td>1200.000000</td>\n",
              "      <td>1.070850e+07</td>\n",
              "      <td>1068.375488</td>\n",
              "    </tr>\n",
              "    <tr>\n",
              "      <th>50%</th>\n",
              "      <td>1635.000000</td>\n",
              "      <td>1590.000000</td>\n",
              "      <td>1614.996338</td>\n",
              "      <td>1610.000000</td>\n",
              "      <td>1.959660e+07</td>\n",
              "      <td>1527.684692</td>\n",
              "    </tr>\n",
              "    <tr>\n",
              "      <th>75%</th>\n",
              "      <td>2170.000000</td>\n",
              "      <td>2100.000000</td>\n",
              "      <td>2150.000000</td>\n",
              "      <td>2140.000000</td>\n",
              "      <td>3.539550e+07</td>\n",
              "      <td>2087.968262</td>\n",
              "    </tr>\n",
              "    <tr>\n",
              "      <th>max</th>\n",
              "      <td>3890.000000</td>\n",
              "      <td>3800.000000</td>\n",
              "      <td>3840.000000</td>\n",
              "      <td>3840.000000</td>\n",
              "      <td>6.027398e+08</td>\n",
              "      <td>3643.729980</td>\n",
              "    </tr>\n",
              "  </tbody>\n",
              "</table>\n",
              "</div>\n",
              "      <button class=\"colab-df-convert\" onclick=\"convertToInteractive('df-45fc8701-4325-42f8-bd7f-e27ed977d552')\"\n",
              "              title=\"Convert this dataframe to an interactive table.\"\n",
              "              style=\"display:none;\">\n",
              "        \n",
              "  <svg xmlns=\"http://www.w3.org/2000/svg\" height=\"24px\"viewBox=\"0 0 24 24\"\n",
              "       width=\"24px\">\n",
              "    <path d=\"M0 0h24v24H0V0z\" fill=\"none\"/>\n",
              "    <path d=\"M18.56 5.44l.94 2.06.94-2.06 2.06-.94-2.06-.94-.94-2.06-.94 2.06-2.06.94zm-11 1L8.5 8.5l.94-2.06 2.06-.94-2.06-.94L8.5 2.5l-.94 2.06-2.06.94zm10 10l.94 2.06.94-2.06 2.06-.94-2.06-.94-.94-2.06-.94 2.06-2.06.94z\"/><path d=\"M17.41 7.96l-1.37-1.37c-.4-.4-.92-.59-1.43-.59-.52 0-1.04.2-1.43.59L10.3 9.45l-7.72 7.72c-.78.78-.78 2.05 0 2.83L4 21.41c.39.39.9.59 1.41.59.51 0 1.02-.2 1.41-.59l7.78-7.78 2.81-2.81c.8-.78.8-2.07 0-2.86zM5.41 20L4 18.59l7.72-7.72 1.47 1.35L5.41 20z\"/>\n",
              "  </svg>\n",
              "      </button>\n",
              "      \n",
              "  <style>\n",
              "    .colab-df-container {\n",
              "      display:flex;\n",
              "      flex-wrap:wrap;\n",
              "      gap: 12px;\n",
              "    }\n",
              "\n",
              "    .colab-df-convert {\n",
              "      background-color: #E8F0FE;\n",
              "      border: none;\n",
              "      border-radius: 50%;\n",
              "      cursor: pointer;\n",
              "      display: none;\n",
              "      fill: #1967D2;\n",
              "      height: 32px;\n",
              "      padding: 0 0 0 0;\n",
              "      width: 32px;\n",
              "    }\n",
              "\n",
              "    .colab-df-convert:hover {\n",
              "      background-color: #E2EBFA;\n",
              "      box-shadow: 0px 1px 2px rgba(60, 64, 67, 0.3), 0px 1px 3px 1px rgba(60, 64, 67, 0.15);\n",
              "      fill: #174EA6;\n",
              "    }\n",
              "\n",
              "    [theme=dark] .colab-df-convert {\n",
              "      background-color: #3B4455;\n",
              "      fill: #D2E3FC;\n",
              "    }\n",
              "\n",
              "    [theme=dark] .colab-df-convert:hover {\n",
              "      background-color: #434B5C;\n",
              "      box-shadow: 0px 1px 3px 1px rgba(0, 0, 0, 0.15);\n",
              "      filter: drop-shadow(0px 1px 2px rgba(0, 0, 0, 0.3));\n",
              "      fill: #FFFFFF;\n",
              "    }\n",
              "  </style>\n",
              "\n",
              "      <script>\n",
              "        const buttonEl =\n",
              "          document.querySelector('#df-45fc8701-4325-42f8-bd7f-e27ed977d552 button.colab-df-convert');\n",
              "        buttonEl.style.display =\n",
              "          google.colab.kernel.accessAllowed ? 'block' : 'none';\n",
              "\n",
              "        async function convertToInteractive(key) {\n",
              "          const element = document.querySelector('#df-45fc8701-4325-42f8-bd7f-e27ed977d552');\n",
              "          const dataTable =\n",
              "            await google.colab.kernel.invokeFunction('convertToInteractive',\n",
              "                                                     [key], {});\n",
              "          if (!dataTable) return;\n",
              "\n",
              "          const docLinkHtml = 'Like what you see? Visit the ' +\n",
              "            '<a target=\"_blank\" href=https://colab.research.google.com/notebooks/data_table.ipynb>data table notebook</a>'\n",
              "            + ' to learn more about interactive tables.';\n",
              "          element.innerHTML = '';\n",
              "          dataTable['output_type'] = 'display_data';\n",
              "          await google.colab.output.renderOutput(dataTable, element);\n",
              "          const docLink = document.createElement('div');\n",
              "          docLink.innerHTML = docLinkHtml;\n",
              "          element.appendChild(docLink);\n",
              "        }\n",
              "      </script>\n",
              "    </div>\n",
              "  </div>\n",
              "  "
            ]
          },
          "metadata": {},
          "execution_count": 102
        }
      ]
    },
    {
      "cell_type": "code",
      "source": [
        "data_BTN = data[['Date', 'Close']].copy()\n",
        "data_BTN"
      ],
      "metadata": {
        "colab": {
          "base_uri": "https://localhost:8080/",
          "height": 424
        },
        "id": "d8xbvGvVbSP9",
        "outputId": "b6c392f4-cfc4-4f8e-eebd-45214081055d"
      },
      "execution_count": 103,
      "outputs": [
        {
          "output_type": "execute_result",
          "data": {
            "text/plain": [
              "            Date        Close\n",
              "0     2012-01-02  1163.181885\n",
              "1     2012-01-03  1172.795044\n",
              "2     2012-01-04  1163.181885\n",
              "3     2012-01-05  1163.181885\n",
              "4     2012-01-06  1163.181885\n",
              "...          ...          ...\n",
              "2680  2022-10-20  1535.000000\n",
              "2681  2022-10-21  1500.000000\n",
              "2682  2022-10-24  1535.000000\n",
              "2683  2022-10-25  1525.000000\n",
              "2684  2022-10-26  1535.000000\n",
              "\n",
              "[2685 rows x 2 columns]"
            ],
            "text/html": [
              "\n",
              "  <div id=\"df-95af60b5-7b08-4e08-92bf-52c729798d89\">\n",
              "    <div class=\"colab-df-container\">\n",
              "      <div>\n",
              "<style scoped>\n",
              "    .dataframe tbody tr th:only-of-type {\n",
              "        vertical-align: middle;\n",
              "    }\n",
              "\n",
              "    .dataframe tbody tr th {\n",
              "        vertical-align: top;\n",
              "    }\n",
              "\n",
              "    .dataframe thead th {\n",
              "        text-align: right;\n",
              "    }\n",
              "</style>\n",
              "<table border=\"1\" class=\"dataframe\">\n",
              "  <thead>\n",
              "    <tr style=\"text-align: right;\">\n",
              "      <th></th>\n",
              "      <th>Date</th>\n",
              "      <th>Close</th>\n",
              "    </tr>\n",
              "  </thead>\n",
              "  <tbody>\n",
              "    <tr>\n",
              "      <th>0</th>\n",
              "      <td>2012-01-02</td>\n",
              "      <td>1163.181885</td>\n",
              "    </tr>\n",
              "    <tr>\n",
              "      <th>1</th>\n",
              "      <td>2012-01-03</td>\n",
              "      <td>1172.795044</td>\n",
              "    </tr>\n",
              "    <tr>\n",
              "      <th>2</th>\n",
              "      <td>2012-01-04</td>\n",
              "      <td>1163.181885</td>\n",
              "    </tr>\n",
              "    <tr>\n",
              "      <th>3</th>\n",
              "      <td>2012-01-05</td>\n",
              "      <td>1163.181885</td>\n",
              "    </tr>\n",
              "    <tr>\n",
              "      <th>4</th>\n",
              "      <td>2012-01-06</td>\n",
              "      <td>1163.181885</td>\n",
              "    </tr>\n",
              "    <tr>\n",
              "      <th>...</th>\n",
              "      <td>...</td>\n",
              "      <td>...</td>\n",
              "    </tr>\n",
              "    <tr>\n",
              "      <th>2680</th>\n",
              "      <td>2022-10-20</td>\n",
              "      <td>1535.000000</td>\n",
              "    </tr>\n",
              "    <tr>\n",
              "      <th>2681</th>\n",
              "      <td>2022-10-21</td>\n",
              "      <td>1500.000000</td>\n",
              "    </tr>\n",
              "    <tr>\n",
              "      <th>2682</th>\n",
              "      <td>2022-10-24</td>\n",
              "      <td>1535.000000</td>\n",
              "    </tr>\n",
              "    <tr>\n",
              "      <th>2683</th>\n",
              "      <td>2022-10-25</td>\n",
              "      <td>1525.000000</td>\n",
              "    </tr>\n",
              "    <tr>\n",
              "      <th>2684</th>\n",
              "      <td>2022-10-26</td>\n",
              "      <td>1535.000000</td>\n",
              "    </tr>\n",
              "  </tbody>\n",
              "</table>\n",
              "<p>2685 rows × 2 columns</p>\n",
              "</div>\n",
              "      <button class=\"colab-df-convert\" onclick=\"convertToInteractive('df-95af60b5-7b08-4e08-92bf-52c729798d89')\"\n",
              "              title=\"Convert this dataframe to an interactive table.\"\n",
              "              style=\"display:none;\">\n",
              "        \n",
              "  <svg xmlns=\"http://www.w3.org/2000/svg\" height=\"24px\"viewBox=\"0 0 24 24\"\n",
              "       width=\"24px\">\n",
              "    <path d=\"M0 0h24v24H0V0z\" fill=\"none\"/>\n",
              "    <path d=\"M18.56 5.44l.94 2.06.94-2.06 2.06-.94-2.06-.94-.94-2.06-.94 2.06-2.06.94zm-11 1L8.5 8.5l.94-2.06 2.06-.94-2.06-.94L8.5 2.5l-.94 2.06-2.06.94zm10 10l.94 2.06.94-2.06 2.06-.94-2.06-.94-.94-2.06-.94 2.06-2.06.94z\"/><path d=\"M17.41 7.96l-1.37-1.37c-.4-.4-.92-.59-1.43-.59-.52 0-1.04.2-1.43.59L10.3 9.45l-7.72 7.72c-.78.78-.78 2.05 0 2.83L4 21.41c.39.39.9.59 1.41.59.51 0 1.02-.2 1.41-.59l7.78-7.78 2.81-2.81c.8-.78.8-2.07 0-2.86zM5.41 20L4 18.59l7.72-7.72 1.47 1.35L5.41 20z\"/>\n",
              "  </svg>\n",
              "      </button>\n",
              "      \n",
              "  <style>\n",
              "    .colab-df-container {\n",
              "      display:flex;\n",
              "      flex-wrap:wrap;\n",
              "      gap: 12px;\n",
              "    }\n",
              "\n",
              "    .colab-df-convert {\n",
              "      background-color: #E8F0FE;\n",
              "      border: none;\n",
              "      border-radius: 50%;\n",
              "      cursor: pointer;\n",
              "      display: none;\n",
              "      fill: #1967D2;\n",
              "      height: 32px;\n",
              "      padding: 0 0 0 0;\n",
              "      width: 32px;\n",
              "    }\n",
              "\n",
              "    .colab-df-convert:hover {\n",
              "      background-color: #E2EBFA;\n",
              "      box-shadow: 0px 1px 2px rgba(60, 64, 67, 0.3), 0px 1px 3px 1px rgba(60, 64, 67, 0.15);\n",
              "      fill: #174EA6;\n",
              "    }\n",
              "\n",
              "    [theme=dark] .colab-df-convert {\n",
              "      background-color: #3B4455;\n",
              "      fill: #D2E3FC;\n",
              "    }\n",
              "\n",
              "    [theme=dark] .colab-df-convert:hover {\n",
              "      background-color: #434B5C;\n",
              "      box-shadow: 0px 1px 3px 1px rgba(0, 0, 0, 0.15);\n",
              "      filter: drop-shadow(0px 1px 2px rgba(0, 0, 0, 0.3));\n",
              "      fill: #FFFFFF;\n",
              "    }\n",
              "  </style>\n",
              "\n",
              "      <script>\n",
              "        const buttonEl =\n",
              "          document.querySelector('#df-95af60b5-7b08-4e08-92bf-52c729798d89 button.colab-df-convert');\n",
              "        buttonEl.style.display =\n",
              "          google.colab.kernel.accessAllowed ? 'block' : 'none';\n",
              "\n",
              "        async function convertToInteractive(key) {\n",
              "          const element = document.querySelector('#df-95af60b5-7b08-4e08-92bf-52c729798d89');\n",
              "          const dataTable =\n",
              "            await google.colab.kernel.invokeFunction('convertToInteractive',\n",
              "                                                     [key], {});\n",
              "          if (!dataTable) return;\n",
              "\n",
              "          const docLinkHtml = 'Like what you see? Visit the ' +\n",
              "            '<a target=\"_blank\" href=https://colab.research.google.com/notebooks/data_table.ipynb>data table notebook</a>'\n",
              "            + ' to learn more about interactive tables.';\n",
              "          element.innerHTML = '';\n",
              "          dataTable['output_type'] = 'display_data';\n",
              "          await google.colab.output.renderOutput(dataTable, element);\n",
              "          const docLink = document.createElement('div');\n",
              "          docLink.innerHTML = docLinkHtml;\n",
              "          element.appendChild(docLink);\n",
              "        }\n",
              "      </script>\n",
              "    </div>\n",
              "  </div>\n",
              "  "
            ]
          },
          "metadata": {},
          "execution_count": 103
        }
      ]
    },
    {
      "cell_type": "code",
      "source": [
        "def normalize_data(df):\n",
        "    scaler = MinMaxScaler()\n",
        "    df['Close']=scaler.fit_transform(df['Close'].values.reshape(-1,1))\n",
        "    return df\n",
        "\n",
        "data_BTN = normalize_data(data_BTN)\n",
        "data_BTN.shape"
      ],
      "metadata": {
        "colab": {
          "base_uri": "https://localhost:8080/"
        },
        "id": "vt6HSSLLbQxi",
        "outputId": "ac15346b-c574-447a-b412-1e5cf445a8f4"
      },
      "execution_count": 104,
      "outputs": [
        {
          "output_type": "execute_result",
          "data": {
            "text/plain": [
              "(2685, 2)"
            ]
          },
          "metadata": {},
          "execution_count": 104
        }
      ]
    },
    {
      "cell_type": "markdown",
      "source": [
        "# SPLITTING DATA"
      ],
      "metadata": {
        "id": "MIWapcz7IvTj"
      }
    },
    {
      "cell_type": "code",
      "source": [
        "\"\"\"\n",
        "1. Train : 80%\n",
        "2. Test  : 10%\n",
        "3. Val   : 10%\n",
        "\"\"\"\n",
        "Y = data_BTN['Date'].values\n",
        "X = data_BTN['Close'].values\n",
        "\n",
        "x_train, x_test, y_train, y_test = train_test_split(X, Y, test_size = 0.2, shuffle = False)\n",
        "x_test, x_val, y_test, y_val = train_test_split(x_test, y_test, test_size = 0.5, shuffle = False)"
      ],
      "metadata": {
        "id": "0Waty5NYIkjF"
      },
      "execution_count": 105,
      "outputs": []
    },
    {
      "cell_type": "code",
      "source": [
        "def cekTotalData(data, nama):\n",
        "  print(f\"Total Data {nama}\\t\\t: {len(data)}\")\n",
        "\n",
        "cekTotalData(x_train, 'Train')\n",
        "cekTotalData(x_test, 'Test')\n",
        "cekTotalData(x_val, 'Validation')"
      ],
      "metadata": {
        "colab": {
          "base_uri": "https://localhost:8080/"
        },
        "id": "aIw2BX_cJ36L",
        "outputId": "7755359f-ec83-4b08-e550-d0bbf2d0822d"
      },
      "execution_count": 106,
      "outputs": [
        {
          "output_type": "stream",
          "name": "stdout",
          "text": [
            "Total Data Train\t\t: 2148\n",
            "Total Data Test\t\t: 268\n",
            "Total Data Validation\t\t: 269\n"
          ]
        }
      ]
    },
    {
      "cell_type": "markdown",
      "source": [
        "# CONVERTION DATE TO NUMERIC (NUMPY)"
      ],
      "metadata": {
        "id": "3uSvKwCWLSj3"
      }
    },
    {
      "cell_type": "code",
      "source": [
        "def windowed_dataset(series, window_size, batch_size, shuffle_buffer):\n",
        "    series = tf.expand_dims(series, axis=-1)\n",
        "    ds = tf.data.Dataset.from_tensor_slices(series)\n",
        "    ds = ds.window(window_size + 1, shift=1, drop_remainder=True)\n",
        "    ds = ds.flat_map(lambda w: w.batch(window_size + 1))\n",
        "    ds = ds.shuffle(shuffle_buffer)\n",
        "    ds = ds.map(lambda w: (w[:-1], w[-1:]))\n",
        "    return ds.batch(batch_size).prefetch(1)"
      ],
      "metadata": {
        "id": "4F41G7bALQpC"
      },
      "execution_count": 107,
      "outputs": []
    },
    {
      "cell_type": "code",
      "source": [
        "train_data = windowed_dataset(x_train, window_size=60, batch_size=200, shuffle_buffer=1000)\n",
        "val_data = windowed_dataset(x_val, window_size=60, batch_size=200, shuffle_buffer=1000)"
      ],
      "metadata": {
        "id": "LH3jzjfMLZG5"
      },
      "execution_count": 108,
      "outputs": []
    },
    {
      "cell_type": "code",
      "source": [
        "train_data"
      ],
      "metadata": {
        "colab": {
          "base_uri": "https://localhost:8080/"
        },
        "id": "YdRTAicRQ026",
        "outputId": "7bbdbbc7-f470-47e6-e240-6977287ea3c7"
      },
      "execution_count": 109,
      "outputs": [
        {
          "output_type": "execute_result",
          "data": {
            "text/plain": [
              "<PrefetchDataset element_spec=(TensorSpec(shape=(None, None, 1), dtype=tf.float64, name=None), TensorSpec(shape=(None, None, 1), dtype=tf.float64, name=None))>"
            ]
          },
          "metadata": {},
          "execution_count": 109
        }
      ]
    },
    {
      "cell_type": "markdown",
      "source": [
        "# MODELLING"
      ],
      "metadata": {
        "id": "NQpKfkdeLkC6"
      }
    },
    {
      "cell_type": "code",
      "source": [
        "model = tf.keras.models.Sequential([\n",
        "                                    Bidirectional(tf.keras.layers.LSTM(65, return_sequences=True)),\n",
        "                                    Bidirectional(tf.keras.layers.LSTM(65, dropout=0.2)),\n",
        "                                    Dense(16, activation=\"relu\"),\n",
        "                                    Dropout(0.2),\n",
        "                                    Dense(8, activation=\"relu\"),\n",
        "                                    Dense(1),\n",
        "])"
      ],
      "metadata": {
        "id": "prl4feteLiwl"
      },
      "execution_count": 110,
      "outputs": []
    },
    {
      "cell_type": "code",
      "source": [
        "min_val_MAE = (data_BTN['Close'].max() - data_BTN['Close'].min()) * 10 / 100\n",
        "print(f\"Minimum Nilai MAE : {min_val_MAE}\")"
      ],
      "metadata": {
        "colab": {
          "base_uri": "https://localhost:8080/"
        },
        "id": "NrhikmWHLq1P",
        "outputId": "a8ed0239-e160-40f6-8cb6-96be8fa1c0e1"
      },
      "execution_count": 111,
      "outputs": [
        {
          "output_type": "stream",
          "name": "stdout",
          "text": [
            "Minimum Nilai MAE : 0.10000000000000002\n"
          ]
        }
      ]
    },
    {
      "cell_type": "code",
      "source": [
        "# Membuat Callbacks\n",
        "class myCallback(tf.keras.callbacks.Callback):\n",
        "  def on_epoch_end(self, epoch, logs={}):\n",
        "    if(logs.get('mean_absolute_error') < 0.0000000001 and logs.get('val_mean_absolute_error') < 0.0000000001):\n",
        "      print(\"\\MAE dari model < 10% skala data\")\n",
        "      self.model.stop_training = True\n",
        "callbacks = myCallback()"
      ],
      "metadata": {
        "id": "gnL7a3DJLxS9"
      },
      "execution_count": 115,
      "outputs": []
    },
    {
      "cell_type": "code",
      "source": [
        "METRICS = [\n",
        "    MeanAbsoluteError(name ='mean_absolute_error'),\n",
        "    MeanAbsolutePercentageError(name = 'mean_absolute_percentage_error'),\n",
        "    MeanSquaredError(name = 'mean_squared_error')\n",
        "]\n",
        "\n",
        "optimizer = tf.keras.optimizers.SGD(learning_rate=1.0000e-02, momentum=0.9)\n",
        "\n",
        "model.compile(loss=tf.keras.losses.Huber(),\n",
        "              optimizer=optimizer,\n",
        "              metrics=METRICS)\n",
        "\n",
        "history = model.fit(train_data, epochs=50, validation_data=val_data, callbacks=[callbacks])"
      ],
      "metadata": {
        "colab": {
          "base_uri": "https://localhost:8080/"
        },
        "id": "ZEcyxoRGL5EM",
        "outputId": "5db77643-795b-41f6-a848-cba71ee57328"
      },
      "execution_count": 116,
      "outputs": [
        {
          "output_type": "stream",
          "name": "stdout",
          "text": [
            "Epoch 1/50\n",
            "11/11 [==============================] - 9s 176ms/step - loss: 0.0080 - mean_absolute_error: 0.0907 - mean_absolute_percentage_error: 238447.1562 - mean_squared_error: 0.0160 - val_loss: 4.1721e-04 - val_mean_absolute_error: 0.0228 - val_mean_absolute_percentage_error: 8.9413 - val_mean_squared_error: 8.3442e-04\n",
            "Epoch 2/50\n",
            "11/11 [==============================] - 1s 39ms/step - loss: 0.0074 - mean_absolute_error: 0.0879 - mean_absolute_percentage_error: 236190.1719 - mean_squared_error: 0.0147 - val_loss: 3.9728e-04 - val_mean_absolute_error: 0.0223 - val_mean_absolute_percentage_error: 8.6877 - val_mean_squared_error: 7.9455e-04\n",
            "Epoch 3/50\n",
            "11/11 [==============================] - 1s 34ms/step - loss: 0.0056 - mean_absolute_error: 0.0777 - mean_absolute_percentage_error: 224885.3125 - mean_squared_error: 0.0112 - val_loss: 2.8758e-04 - val_mean_absolute_error: 0.0185 - val_mean_absolute_percentage_error: 7.0902 - val_mean_squared_error: 5.7515e-04\n",
            "Epoch 4/50\n",
            "11/11 [==============================] - 0s 32ms/step - loss: 0.0059 - mean_absolute_error: 0.0802 - mean_absolute_percentage_error: 113038.9766 - mean_squared_error: 0.0118 - val_loss: 2.9046e-04 - val_mean_absolute_error: 0.0186 - val_mean_absolute_percentage_error: 7.1517 - val_mean_squared_error: 5.8092e-04\n",
            "Epoch 5/50\n",
            "11/11 [==============================] - 1s 34ms/step - loss: 0.0057 - mean_absolute_error: 0.0791 - mean_absolute_percentage_error: 65865.4844 - mean_squared_error: 0.0115 - val_loss: 2.7099e-04 - val_mean_absolute_error: 0.0184 - val_mean_absolute_percentage_error: 6.6364 - val_mean_squared_error: 5.4198e-04\n",
            "Epoch 6/50\n",
            "11/11 [==============================] - 1s 33ms/step - loss: 0.0057 - mean_absolute_error: 0.0789 - mean_absolute_percentage_error: 161345.9062 - mean_squared_error: 0.0114 - val_loss: 2.6588e-04 - val_mean_absolute_error: 0.0179 - val_mean_absolute_percentage_error: 6.8253 - val_mean_squared_error: 5.3176e-04\n",
            "Epoch 7/50\n",
            "11/11 [==============================] - 1s 33ms/step - loss: 0.0052 - mean_absolute_error: 0.0754 - mean_absolute_percentage_error: 100398.0156 - mean_squared_error: 0.0103 - val_loss: 2.8665e-04 - val_mean_absolute_error: 0.0191 - val_mean_absolute_percentage_error: 6.8425 - val_mean_squared_error: 5.7330e-04\n",
            "Epoch 8/50\n",
            "11/11 [==============================] - 1s 34ms/step - loss: 0.0054 - mean_absolute_error: 0.0770 - mean_absolute_percentage_error: 215467.4844 - mean_squared_error: 0.0108 - val_loss: 2.4168e-04 - val_mean_absolute_error: 0.0170 - val_mean_absolute_percentage_error: 6.3408 - val_mean_squared_error: 4.8337e-04\n",
            "Epoch 9/50\n",
            "11/11 [==============================] - 1s 32ms/step - loss: 0.0051 - mean_absolute_error: 0.0750 - mean_absolute_percentage_error: 85413.0000 - mean_squared_error: 0.0102 - val_loss: 2.6186e-04 - val_mean_absolute_error: 0.0180 - val_mean_absolute_percentage_error: 6.5150 - val_mean_squared_error: 5.2371e-04\n",
            "Epoch 10/50\n",
            "11/11 [==============================] - 1s 33ms/step - loss: 0.0049 - mean_absolute_error: 0.0738 - mean_absolute_percentage_error: 162478.8750 - mean_squared_error: 0.0098 - val_loss: 3.3726e-04 - val_mean_absolute_error: 0.0215 - val_mean_absolute_percentage_error: 7.5924 - val_mean_squared_error: 6.7451e-04\n",
            "Epoch 11/50\n",
            "11/11 [==============================] - 0s 32ms/step - loss: 0.0050 - mean_absolute_error: 0.0738 - mean_absolute_percentage_error: 217661.5781 - mean_squared_error: 0.0100 - val_loss: 2.6170e-04 - val_mean_absolute_error: 0.0180 - val_mean_absolute_percentage_error: 6.5161 - val_mean_squared_error: 5.2341e-04\n",
            "Epoch 12/50\n",
            "11/11 [==============================] - 1s 33ms/step - loss: 0.0045 - mean_absolute_error: 0.0704 - mean_absolute_percentage_error: 159917.5625 - mean_squared_error: 0.0090 - val_loss: 3.3328e-04 - val_mean_absolute_error: 0.0214 - val_mean_absolute_percentage_error: 7.5494 - val_mean_squared_error: 6.6655e-04\n",
            "Epoch 13/50\n",
            "11/11 [==============================] - 0s 32ms/step - loss: 0.0046 - mean_absolute_error: 0.0699 - mean_absolute_percentage_error: 104728.6250 - mean_squared_error: 0.0092 - val_loss: 2.8779e-04 - val_mean_absolute_error: 0.0193 - val_mean_absolute_percentage_error: 6.8887 - val_mean_squared_error: 5.7558e-04\n",
            "Epoch 14/50\n",
            "11/11 [==============================] - 1s 33ms/step - loss: 0.0042 - mean_absolute_error: 0.0694 - mean_absolute_percentage_error: 160834.0000 - mean_squared_error: 0.0085 - val_loss: 3.9334e-04 - val_mean_absolute_error: 0.0238 - val_mean_absolute_percentage_error: 8.3566 - val_mean_squared_error: 7.8668e-04\n",
            "Epoch 15/50\n",
            "11/11 [==============================] - 0s 32ms/step - loss: 0.0044 - mean_absolute_error: 0.0699 - mean_absolute_percentage_error: 120704.9219 - mean_squared_error: 0.0088 - val_loss: 3.2591e-04 - val_mean_absolute_error: 0.0211 - val_mean_absolute_percentage_error: 7.4658 - val_mean_squared_error: 6.5183e-04\n",
            "Epoch 16/50\n",
            "11/11 [==============================] - 1s 32ms/step - loss: 0.0043 - mean_absolute_error: 0.0700 - mean_absolute_percentage_error: 104218.6016 - mean_squared_error: 0.0087 - val_loss: 3.7312e-04 - val_mean_absolute_error: 0.0231 - val_mean_absolute_percentage_error: 8.1246 - val_mean_squared_error: 7.4624e-04\n",
            "Epoch 17/50\n",
            "11/11 [==============================] - 0s 33ms/step - loss: 0.0043 - mean_absolute_error: 0.0687 - mean_absolute_percentage_error: 125792.7188 - mean_squared_error: 0.0085 - val_loss: 3.7988e-04 - val_mean_absolute_error: 0.0233 - val_mean_absolute_percentage_error: 8.1849 - val_mean_squared_error: 7.5975e-04\n",
            "Epoch 18/50\n",
            "11/11 [==============================] - 1s 34ms/step - loss: 0.0042 - mean_absolute_error: 0.0678 - mean_absolute_percentage_error: 190025.5781 - mean_squared_error: 0.0083 - val_loss: 4.2772e-04 - val_mean_absolute_error: 0.0250 - val_mean_absolute_percentage_error: 8.7279 - val_mean_squared_error: 8.5544e-04\n",
            "Epoch 19/50\n",
            "11/11 [==============================] - 1s 32ms/step - loss: 0.0041 - mean_absolute_error: 0.0671 - mean_absolute_percentage_error: 176768.0000 - mean_squared_error: 0.0081 - val_loss: 3.6548e-04 - val_mean_absolute_error: 0.0228 - val_mean_absolute_percentage_error: 7.9794 - val_mean_squared_error: 7.3096e-04\n",
            "Epoch 20/50\n",
            "11/11 [==============================] - 1s 32ms/step - loss: 0.0040 - mean_absolute_error: 0.0666 - mean_absolute_percentage_error: 167174.1406 - mean_squared_error: 0.0080 - val_loss: 3.7825e-04 - val_mean_absolute_error: 0.0232 - val_mean_absolute_percentage_error: 8.1165 - val_mean_squared_error: 7.5650e-04\n",
            "Epoch 21/50\n",
            "11/11 [==============================] - 1s 32ms/step - loss: 0.0041 - mean_absolute_error: 0.0666 - mean_absolute_percentage_error: 122670.6719 - mean_squared_error: 0.0081 - val_loss: 4.4392e-04 - val_mean_absolute_error: 0.0255 - val_mean_absolute_percentage_error: 8.8380 - val_mean_squared_error: 8.8785e-04\n",
            "Epoch 22/50\n",
            "11/11 [==============================] - 1s 33ms/step - loss: 0.0040 - mean_absolute_error: 0.0660 - mean_absolute_percentage_error: 201938.3125 - mean_squared_error: 0.0079 - val_loss: 3.9408e-04 - val_mean_absolute_error: 0.0237 - val_mean_absolute_percentage_error: 8.2300 - val_mean_squared_error: 7.8815e-04\n",
            "Epoch 23/50\n",
            "11/11 [==============================] - 1s 34ms/step - loss: 0.0039 - mean_absolute_error: 0.0655 - mean_absolute_percentage_error: 176976.7344 - mean_squared_error: 0.0078 - val_loss: 4.1428e-04 - val_mean_absolute_error: 0.0244 - val_mean_absolute_percentage_error: 8.4635 - val_mean_squared_error: 8.2856e-04\n",
            "Epoch 24/50\n",
            "11/11 [==============================] - 1s 32ms/step - loss: 0.0037 - mean_absolute_error: 0.0632 - mean_absolute_percentage_error: 76033.1250 - mean_squared_error: 0.0075 - val_loss: 3.6064e-04 - val_mean_absolute_error: 0.0224 - val_mean_absolute_percentage_error: 7.8051 - val_mean_squared_error: 7.2127e-04\n",
            "Epoch 25/50\n",
            "11/11 [==============================] - 1s 33ms/step - loss: 0.0036 - mean_absolute_error: 0.0630 - mean_absolute_percentage_error: 77698.1875 - mean_squared_error: 0.0072 - val_loss: 4.3051e-04 - val_mean_absolute_error: 0.0250 - val_mean_absolute_percentage_error: 8.6498 - val_mean_squared_error: 8.6103e-04\n",
            "Epoch 26/50\n",
            "11/11 [==============================] - 1s 33ms/step - loss: 0.0036 - mean_absolute_error: 0.0625 - mean_absolute_percentage_error: 76312.9141 - mean_squared_error: 0.0072 - val_loss: 4.8816e-04 - val_mean_absolute_error: 0.0268 - val_mean_absolute_percentage_error: 9.2696 - val_mean_squared_error: 9.7632e-04\n",
            "Epoch 27/50\n",
            "11/11 [==============================] - 1s 33ms/step - loss: 0.0036 - mean_absolute_error: 0.0625 - mean_absolute_percentage_error: 108894.9922 - mean_squared_error: 0.0071 - val_loss: 4.3085e-04 - val_mean_absolute_error: 0.0249 - val_mean_absolute_percentage_error: 8.6361 - val_mean_squared_error: 8.6171e-04\n",
            "Epoch 28/50\n",
            "11/11 [==============================] - 0s 32ms/step - loss: 0.0038 - mean_absolute_error: 0.0636 - mean_absolute_percentage_error: 77000.8516 - mean_squared_error: 0.0075 - val_loss: 4.5356e-04 - val_mean_absolute_error: 0.0257 - val_mean_absolute_percentage_error: 8.8980 - val_mean_squared_error: 9.0712e-04\n",
            "Epoch 29/50\n",
            "11/11 [==============================] - 1s 33ms/step - loss: 0.0039 - mean_absolute_error: 0.0634 - mean_absolute_percentage_error: 105122.9844 - mean_squared_error: 0.0077 - val_loss: 3.8574e-04 - val_mean_absolute_error: 0.0234 - val_mean_absolute_percentage_error: 8.1282 - val_mean_squared_error: 7.7149e-04\n",
            "Epoch 30/50\n",
            "11/11 [==============================] - 1s 33ms/step - loss: 0.0036 - mean_absolute_error: 0.0618 - mean_absolute_percentage_error: 73620.2188 - mean_squared_error: 0.0073 - val_loss: 3.4524e-04 - val_mean_absolute_error: 0.0219 - val_mean_absolute_percentage_error: 7.6375 - val_mean_squared_error: 6.9049e-04\n",
            "Epoch 31/50\n",
            "11/11 [==============================] - 1s 33ms/step - loss: 0.0034 - mean_absolute_error: 0.0610 - mean_absolute_percentage_error: 203361.2500 - mean_squared_error: 0.0069 - val_loss: 4.2639e-04 - val_mean_absolute_error: 0.0249 - val_mean_absolute_percentage_error: 8.6410 - val_mean_squared_error: 8.5277e-04\n",
            "Epoch 32/50\n",
            "11/11 [==============================] - 1s 34ms/step - loss: 0.0034 - mean_absolute_error: 0.0608 - mean_absolute_percentage_error: 68489.7969 - mean_squared_error: 0.0069 - val_loss: 3.6286e-04 - val_mean_absolute_error: 0.0226 - val_mean_absolute_percentage_error: 7.8823 - val_mean_squared_error: 7.2573e-04\n",
            "Epoch 33/50\n",
            "11/11 [==============================] - 1s 33ms/step - loss: 0.0035 - mean_absolute_error: 0.0614 - mean_absolute_percentage_error: 129953.4531 - mean_squared_error: 0.0070 - val_loss: 3.3186e-04 - val_mean_absolute_error: 0.0214 - val_mean_absolute_percentage_error: 7.4948 - val_mean_squared_error: 6.6373e-04\n",
            "Epoch 34/50\n",
            "11/11 [==============================] - 1s 33ms/step - loss: 0.0034 - mean_absolute_error: 0.0596 - mean_absolute_percentage_error: 150252.5781 - mean_squared_error: 0.0068 - val_loss: 3.4011e-04 - val_mean_absolute_error: 0.0218 - val_mean_absolute_percentage_error: 7.6095 - val_mean_squared_error: 6.8022e-04\n",
            "Epoch 35/50\n",
            "11/11 [==============================] - 1s 32ms/step - loss: 0.0033 - mean_absolute_error: 0.0595 - mean_absolute_percentage_error: 113345.7109 - mean_squared_error: 0.0067 - val_loss: 2.7263e-04 - val_mean_absolute_error: 0.0188 - val_mean_absolute_percentage_error: 6.6334 - val_mean_squared_error: 5.4527e-04\n",
            "Epoch 36/50\n",
            "11/11 [==============================] - 1s 32ms/step - loss: 0.0036 - mean_absolute_error: 0.0614 - mean_absolute_percentage_error: 103897.7188 - mean_squared_error: 0.0072 - val_loss: 3.2861e-04 - val_mean_absolute_error: 0.0213 - val_mean_absolute_percentage_error: 7.4745 - val_mean_squared_error: 6.5721e-04\n",
            "Epoch 37/50\n",
            "11/11 [==============================] - 0s 32ms/step - loss: 0.0035 - mean_absolute_error: 0.0598 - mean_absolute_percentage_error: 154118.9062 - mean_squared_error: 0.0069 - val_loss: 2.9731e-04 - val_mean_absolute_error: 0.0200 - val_mean_absolute_percentage_error: 7.0474 - val_mean_squared_error: 5.9463e-04\n",
            "Epoch 38/50\n",
            "11/11 [==============================] - 1s 33ms/step - loss: 0.0033 - mean_absolute_error: 0.0597 - mean_absolute_percentage_error: 157265.9375 - mean_squared_error: 0.0066 - val_loss: 2.5932e-04 - val_mean_absolute_error: 0.0183 - val_mean_absolute_percentage_error: 6.4660 - val_mean_squared_error: 5.1863e-04\n",
            "Epoch 39/50\n",
            "11/11 [==============================] - 0s 33ms/step - loss: 0.0029 - mean_absolute_error: 0.0566 - mean_absolute_percentage_error: 49695.0391 - mean_squared_error: 0.0058 - val_loss: 3.1854e-04 - val_mean_absolute_error: 0.0209 - val_mean_absolute_percentage_error: 7.3470 - val_mean_squared_error: 6.3707e-04\n",
            "Epoch 40/50\n",
            "11/11 [==============================] - 1s 33ms/step - loss: 0.0033 - mean_absolute_error: 0.0580 - mean_absolute_percentage_error: 137283.4531 - mean_squared_error: 0.0066 - val_loss: 2.6530e-04 - val_mean_absolute_error: 0.0185 - val_mean_absolute_percentage_error: 6.5718 - val_mean_squared_error: 5.3060e-04\n",
            "Epoch 41/50\n",
            "11/11 [==============================] - 1s 32ms/step - loss: 0.0032 - mean_absolute_error: 0.0574 - mean_absolute_percentage_error: 55127.3164 - mean_squared_error: 0.0064 - val_loss: 3.2422e-04 - val_mean_absolute_error: 0.0211 - val_mean_absolute_percentage_error: 7.4236 - val_mean_squared_error: 6.4844e-04\n",
            "Epoch 42/50\n",
            "11/11 [==============================] - 1s 33ms/step - loss: 0.0032 - mean_absolute_error: 0.0581 - mean_absolute_percentage_error: 123449.6094 - mean_squared_error: 0.0064 - val_loss: 2.5439e-04 - val_mean_absolute_error: 0.0180 - val_mean_absolute_percentage_error: 6.4170 - val_mean_squared_error: 5.0878e-04\n",
            "Epoch 43/50\n",
            "11/11 [==============================] - 1s 34ms/step - loss: 0.0031 - mean_absolute_error: 0.0565 - mean_absolute_percentage_error: 87343.0078 - mean_squared_error: 0.0061 - val_loss: 2.6227e-04 - val_mean_absolute_error: 0.0184 - val_mean_absolute_percentage_error: 6.5437 - val_mean_squared_error: 5.2454e-04\n",
            "Epoch 44/50\n",
            "11/11 [==============================] - 1s 33ms/step - loss: 0.0030 - mean_absolute_error: 0.0560 - mean_absolute_percentage_error: 78272.8203 - mean_squared_error: 0.0061 - val_loss: 2.4762e-04 - val_mean_absolute_error: 0.0177 - val_mean_absolute_percentage_error: 6.3265 - val_mean_squared_error: 4.9525e-04\n",
            "Epoch 45/50\n",
            "11/11 [==============================] - 1s 32ms/step - loss: 0.0032 - mean_absolute_error: 0.0569 - mean_absolute_percentage_error: 111265.0469 - mean_squared_error: 0.0064 - val_loss: 3.6951e-04 - val_mean_absolute_error: 0.0228 - val_mean_absolute_percentage_error: 8.0285 - val_mean_squared_error: 7.3902e-04\n",
            "Epoch 46/50\n",
            "11/11 [==============================] - 1s 34ms/step - loss: 0.0030 - mean_absolute_error: 0.0565 - mean_absolute_percentage_error: 175723.3906 - mean_squared_error: 0.0061 - val_loss: 2.3718e-04 - val_mean_absolute_error: 0.0173 - val_mean_absolute_percentage_error: 6.1970 - val_mean_squared_error: 4.7437e-04\n",
            "Epoch 47/50\n",
            "11/11 [==============================] - 0s 33ms/step - loss: 0.0029 - mean_absolute_error: 0.0547 - mean_absolute_percentage_error: 56600.7188 - mean_squared_error: 0.0058 - val_loss: 2.4863e-04 - val_mean_absolute_error: 0.0177 - val_mean_absolute_percentage_error: 6.3641 - val_mean_squared_error: 4.9727e-04\n",
            "Epoch 48/50\n",
            "11/11 [==============================] - 1s 55ms/step - loss: 0.0029 - mean_absolute_error: 0.0551 - mean_absolute_percentage_error: 85920.9844 - mean_squared_error: 0.0059 - val_loss: 2.9143e-04 - val_mean_absolute_error: 0.0195 - val_mean_absolute_percentage_error: 6.9507 - val_mean_squared_error: 5.8287e-04\n",
            "Epoch 49/50\n",
            "11/11 [==============================] - 1s 57ms/step - loss: 0.0028 - mean_absolute_error: 0.0548 - mean_absolute_percentage_error: 156341.9062 - mean_squared_error: 0.0057 - val_loss: 2.6936e-04 - val_mean_absolute_error: 0.0185 - val_mean_absolute_percentage_error: 6.6392 - val_mean_squared_error: 5.3872e-04\n",
            "Epoch 50/50\n",
            "11/11 [==============================] - 1s 36ms/step - loss: 0.0030 - mean_absolute_error: 0.0555 - mean_absolute_percentage_error: 89884.3516 - mean_squared_error: 0.0059 - val_loss: 3.3762e-04 - val_mean_absolute_error: 0.0214 - val_mean_absolute_percentage_error: 7.5907 - val_mean_squared_error: 6.7523e-04\n"
          ]
        }
      ]
    },
    {
      "cell_type": "code",
      "source": [
        "analisis_train = ['mean_absolute_error', 'loss', 'mean_absolute_percentage_error', 'mean_squared_error']\n",
        "analisis_val = ['val_mean_absolute_error', 'val_loss', 'val_mean_absolute_percentage_error','val_mean_squared_error']\n",
        "notes = ['MAE Over Time', 'Loss Over Time', 'MAPE Over Time', 'MSE Over Time']\n",
        "\n",
        "for analize in range(0, len(analisis_train)):\n",
        "  plt.plot(history.history[analisis_train[analize]], label=analisis_train[analize])\n",
        "  plt.plot(history.history[analisis_val[analize]], label = analisis_val[analize])\n",
        "  plt.xlabel('Epochs')\n",
        "  plt.ylabel(analisis_train[analize])\n",
        "  plt.ylim(0, 1)\n",
        "  plt.title(notes[analize])\n",
        "  plt.legend()\n",
        "  plt.show()"
      ],
      "metadata": {
        "colab": {
          "base_uri": "https://localhost:8080/",
          "height": 1000
        },
        "id": "EFLg41EQSNLJ",
        "outputId": "fab16488-6584-43f4-bfb0-32a9c00c66a8"
      },
      "execution_count": 119,
      "outputs": [
        {
          "output_type": "display_data",
          "data": {
            "text/plain": [
              "<Figure size 432x288 with 1 Axes>"
            ],
            "image/png": "[encoded data removed]"
          },
          "metadata": {}
        },
        {
          "output_type": "display_data",
          "data": {
            "text/plain": [
              "<Figure size 432x288 with 1 Axes>"
            ],
            "image/png": "[encoded data removed]"
          },
          "metadata": {}
        },
        {
          "output_type": "display_data",
          "data": {
            "text/plain": [
              "<Figure size 432x288 with 1 Axes>"
            ],
            "image/png": "[encoded data removed]"
          },
          "metadata": {}
        },
        {
          "output_type": "display_data",
          "data": {
            "text/plain": [
              "<Figure size 432x288 with 1 Axes>"
            ],
            "image/png": "[encoded data removed]"
          },
          "metadata": {}
        }
      ]
    },
    {
      "cell_type": "markdown",
      "source": [
        "# EVALUATE MODEL"
      ],
      "metadata": {
        "id": "yQsi7395S-kS"
      }
    },
    {
      "cell_type": "code",
      "source": [
        "test_data = windowed_dataset(x_test, window_size=60, batch_size=200, shuffle_buffer=1000)"
      ],
      "metadata": {
        "id": "WGTxZ_gvTQaY"
      },
      "execution_count": 120,
      "outputs": []
    },
    {
      "cell_type": "code",
      "source": [
        "eval = model.evaluate(test_data)"
      ],
      "metadata": {
        "colab": {
          "base_uri": "https://localhost:8080/"
        },
        "id": "OOQzocN9Tgja",
        "outputId": "b9925bc6-a2e8-4b9a-f1f3-ce3cccc63cf2"
      },
      "execution_count": 122,
      "outputs": [
        {
          "output_type": "stream",
          "name": "stdout",
          "text": [
            "2/2 [==============================] - 0s 36ms/step - loss: 8.3258e-04 - mean_absolute_error: 0.0312 - mean_absolute_percentage_error: 10.3151 - mean_squared_error: 0.0017\n"
          ]
        }
      ]
    },
    {
      "cell_type": "code",
      "source": [
        "print(f\"Hasil LOSS Evaluasi Data Test : {eval[0]}%\")\n",
        "print(f\"Hasil MAE Evaluasi Data Test  : {eval[1]}%\")\n",
        "print(f\"Hasil MAPE Evaluasi Data Test : {eval[2]}%\")\n",
        "print(f\"Hasil MSE Evaluasi Data Test  : {eval[3]}%\")"
      ],
      "metadata": {
        "colab": {
          "base_uri": "https://localhost:8080/"
        },
        "id": "ks0lTrqATqZx",
        "outputId": "c146859b-c195-450a-c0ff-522a5dc8fc55"
      },
      "execution_count": 127,
      "outputs": [
        {
          "output_type": "stream",
          "name": "stdout",
          "text": [
            "Hasil LOSS Evaluasi Data Test : 0.0008325833478011191%\n",
            "Hasil MAE Evaluasi Data Test  : 0.031246237456798553%\n",
            "Hasil MAPE Evaluasi Data Test : 10.31505298614502%\n",
            "Hasil MSE Evaluasi Data Test  : 0.0016651666956022382%\n"
          ]
        }
      ]
    }
  ]
}